{
 "cells": [
  {
   "cell_type": "markdown",
   "id": "7ff13f52",
   "metadata": {},
   "source": [
    "## Investigating brain structural maturation in children and adolescents born very preterm using the brain age framework\n",
    "**Claire Kelly***<sup>1,2,3</sup>, Gareth Ball<sup>3,4</sup>, Lillian G Matthews<sup>1,2,5</sup>, Jeanie LY Cheong<sup>2,6,7</sup>, Lex W Doyle<sup>2,4,6,7</sup>, Terrie E Inder<sup>5</sup>, Deanne K Thompson<sup>2,3,4</sup> & Peter J Anderson<sup>1,2</sup>  \n",
    "\n",
    "1. Turner Institute for Brain and Mental Health, School of Psychological Sciences, Monash University, Melbourne, Australia\n",
    "2. Victorian Infant Brain Studies (VIBeS), Murdoch Children’s Research Institute, Melbourne, Australia\n",
    "3. Developmental Imaging, Murdoch Children’s Research Institute, Melbourne, Australia\n",
    "4. Department of Paediatrics, The University of Melbourne, Melbourne, Australia\n",
    "5. Department of Pediatric Newborn Medicine, Brigham and Women’s Hospital, Harvard Medical School, Boston, MA, USA\n",
    "6. The Royal Women’s Hospital, Melbourne, Australia\n",
    "7. Department of Obstetrics and Gynaecology, The University of Melbourne, Melbourne, Australia\n",
    "\n",
    "* claire.kelly@monash.edu \n",
    "\n"
   ]
  },
  {
   "cell_type": "code",
   "execution_count": null,
   "id": "proprietary-belfast",
   "metadata": {},
   "outputs": [],
   "source": [
    "# This code was run using python 3.8.2\n",
    "# Required packages include numpy (version 1.20.1) and sklearn (version 0.24.1)"
   ]
  },
  {
   "cell_type": "code",
   "execution_count": null,
   "id": "greek-plumbing",
   "metadata": {},
   "outputs": [],
   "source": [
    "import numpy as np\n",
    "\n",
    "from sklearn.gaussian_process import GaussianProcessRegressor\n",
    "from sklearn.gaussian_process.kernels import RBF, DotProduct, WhiteKernel\n",
    "from sklearn.preprocessing import StandardScaler\n",
    "\n",
    "from sklearn.model_selection import StratifiedKFold\n",
    "from sklearn.model_selection import KFold\n",
    "\n",
    "from sklearn.metrics import mean_absolute_error"
   ]
  },
  {
   "cell_type": "markdown",
   "id": "0932c48e",
   "metadata": {},
   "source": [
    "Participants are from the Victorian Infant Brain Study (VIBeS). Infants born very preterm (<30 weeks’ gestation or <1250 g) were recruited between July 2001 and December 2003 from the Royal Women’s Hospital, Melbourne. The participants were invited to return for MRI at ages 7 and 13 years.  \n",
    "\n",
    "An independent dataset was used to train the age prediction model. Data were acquired from The Pediatric Imaging, Neurocognition, and Genetics (PING) data repository (Jernigan et al., 2016), made available via the [NIMH Data Archive](https://nda.nih.gov/edit_collection.html?id=2607).  \n",
    "\n",
    "All T1-weighted images for the PING and VIBeS datasets were preprocessed using the recon-all pipeline from FreeSurfer version 6. Volume, area and thickness of the cortical regions and volume of the subcortical structures were extracted for use as features in the brain age prediction model (see Table 1). \n",
    "\n",
    "### Inputs"
   ]
  },
  {
   "cell_type": "code",
   "execution_count": 2,
   "id": "bulgarian-suggestion",
   "metadata": {},
   "outputs": [],
   "source": [
    "# Expected model inputs:\n",
    "\n",
    "# Training data\n",
    "# ping_freesurfer: n (observations) x p (freesurfer variables) array\n",
    "# ping_age: n (observations) x p (age variable) array\n",
    "# ping_site: n (observations) x p (MRI scan site variable) array\n",
    "\n",
    "# Test data\n",
    "# vibes7_freesurfer: n (observations) x p (freesurfer variables) array\n",
    "# vibes7_age: n (observations) x p (age variable) array\n",
    "\n",
    "# vibes13_freesurfer: n (observations) x p (freesurfer variables) array\n",
    "# vibes13_age: n (observations) x p (age variable) array"
   ]
  },
  {
   "cell_type": "markdown",
   "id": "717b78a3",
   "metadata": {},
   "source": [
    "### Brain age model"
   ]
  },
  {
   "cell_type": "code",
   "execution_count": null,
   "id": "injured-colors",
   "metadata": {},
   "outputs": [],
   "source": [
    "# Set up Gaussian Process Regression (GPR) model\n",
    "ss = StandardScaler()\n",
    "kernel =  1 * DotProduct(sigma_0=1e-5, sigma_0_bounds='fixed') + RBF(length_scale=[5], length_scale_bounds=(.1,1000)) + WhiteKernel(noise_level=1)\n",
    "gpr = GaussianProcessRegressor(kernel=kernel, normalize_y=True, alpha=0.0)\n",
    "\n",
    "# As a pipeline\n",
    "nonlinear_model = Pipeline(steps=(['scale', ss], ['model', gpr])) "
   ]
  },
  {
   "cell_type": "markdown",
   "id": "38f695c9",
   "metadata": {},
   "source": [
    "### Cross-validation"
   ]
  },
  {
   "cell_type": "code",
   "execution_count": null,
   "id": "sudden-startup",
   "metadata": {},
   "outputs": [],
   "source": [
    "# Cross validate the GPR model in the PING dataset  \n",
    "\n",
    "# array for predictions\n",
    "pred_y = np.zeros(np.shape(ping_age))\n",
    "\n",
    "# number of folds\n",
    "folds = 10 \n",
    "\n",
    "# stratified k-fold cross-validator\n",
    "skf = StratifiedKFold(n_splits=folds, shuffle=True)\n",
    "\n",
    "# arrays for R2 and MAE in each folds\n",
    "fold_r2 = np.zeros((folds,1))\n",
    "fold_mae = np.zeros((folds,1))\n",
    "\n",
    "# CV loop\n",
    "for f,idx in enumerate(skf.split(ping_freesurfer, ping_site)): # stratify by site\n",
    "    train_index = idx[0]\n",
    "    test_index = idx[1]\n",
    "    \n",
    "    # select train/test data\n",
    "    X_train, X_test = ping_freesurfer[train_index], ping_freesurfer[test_index]\n",
    "    y_train, y_test = ping_age[train_index], ping_age[test_index]\n",
    "    \n",
    "    # fit model\n",
    "    nonlinear_model.fit(X_train, y_train)\n",
    "    # predict test data\n",
    "    pred_y[test_index] = nonlinear_model.predict(X_test)\n",
    "   \n",
    "    # calculate metrics\n",
    "    fold_r2[f] = nonlinear_model.score(X_test, y_test)\n",
    "    print(\"test r2: %.2f\" % nonlinear_model.score(X_test, y_test))\n",
    "    print(\"train r2: %.2f\" % nonlinear_model.score(X_train, y_train))\n",
    "    #print(gpr.kernel_) \n",
    "     \n",
    "    fold_mae[f] = mean_absolute_error(y_test, pred_y[test_index])\n",
    "    print(\"test mae: %.2f\" % mean_absolute_error(y_test, pred_y[test_index]))\n",
    "    "
   ]
  },
  {
   "cell_type": "markdown",
   "id": "bd236bce",
   "metadata": {},
   "source": [
    "### Cross-validation results"
   ]
  },
  {
   "cell_type": "code",
   "execution_count": null,
   "id": "black-irrigation",
   "metadata": {},
   "outputs": [],
   "source": [
    "# Calculate the correlation coefficient between true and predicted age across all PING subjects\n",
    "cc = np.corrcoef(ping_age, pred_y)[0,1]\n",
    "print('correlation between age and predicted age: {:02f}'.format(cc))\n",
    "\n",
    "# Calculate the mean R2 and MAE over the 10 CV folds for the PING dataset \n",
    "mean_r2 = np.mean(fold_r2)\n",
    "sd_r2 = np.std(fold_r2)\n",
    "print('mean R-squared +/- S.D. over folds: {:03f} +/- {:03f}'.format(mean_r2, sd_r2))\n",
    "\n",
    "mean_mae = np.mean(fold_mae)\n",
    "sd_mae = np.std(fold_mae)\n",
    "print('mean MAE +/- S.D. over folds: {:03f} +/- {:03f}'.format(mean_mae, sd_mae))\n"
   ]
  },
  {
   "cell_type": "markdown",
   "id": "e4015ac8",
   "metadata": {},
   "source": [
    "### Predicting brain age in VIBeS"
   ]
  },
  {
   "cell_type": "code",
   "execution_count": null,
   "id": "cardiac-environment",
   "metadata": {},
   "outputs": [],
   "source": [
    "# Refit the GPR model to the full PING dataset, then apply the model to the VIBeS-7 dataset\n",
    "X_train = ping_freesurfer\n",
    "y_train = ping_age\n",
    "\n",
    "X_test = vibes7_freesurfer\n",
    "y_test = vibes7_age\n",
    "\n",
    "nonlinear_model.fit(X_train, y_train)\n",
    "pred_y = nonlinear_model.predict(X_test)\n",
    "\n",
    "print(\"r2: %.2f\" % nonlinear_model.score(X_test, y_test))\n",
    "print(\"mae: %.2f\" % mean_absolute_error(y_test, pred_y))\n",
    "print(\"coef: %.2f\" % np.corrcoef(y_test, pred_y)[0,1])\n",
    "\n",
    "vibes7_brainage = pred_y - vibes7_age\n",
    "\n",
    "# Export vibes7_brainage for further statistical analysis"
   ]
  },
  {
   "cell_type": "code",
   "execution_count": null,
   "id": "associate-coaching",
   "metadata": {},
   "outputs": [],
   "source": [
    "# Apply the model to the VIBeS-13 dataset\n",
    "X_test = vibes13_freesurfer\n",
    "y_test = vibes13_age\n",
    "\n",
    "pred_y = nonlinear_model.predict(X_test)\n",
    "\n",
    "print(\"r2: %.2f\" % nonlinear_model.score(X_test, y_test))\n",
    "print(\"mae: %.2f\" % mean_absolute_error(y_test, pred_y))\n",
    "print(\"coef: %.2f\" % np.corrcoef(y_test, pred_y)[0,1])\n",
    "\n",
    "vibes13_brainage = pred_y - vibes13_age\n",
    "\n",
    "# Export vibes13_brainage for further statistical analysis"
   ]
  }
 ],
 "metadata": {
  "kernelspec": {
   "display_name": "Python 3",
   "language": "python",
   "name": "python3"
  },
  "language_info": {
   "codemirror_mode": {
    "name": "ipython",
    "version": 3
   },
   "file_extension": ".py",
   "mimetype": "text/x-python",
   "name": "python",
   "nbconvert_exporter": "python",
   "pygments_lexer": "ipython3",
   "version": "3.8.2"
  }
 },
 "nbformat": 4,
 "nbformat_minor": 5
}
